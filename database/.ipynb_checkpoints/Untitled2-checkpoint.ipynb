{
 "cells": [
  {
   "cell_type": "code",
   "execution_count": 33,
   "id": "aa5fc4aa-223e-4c58-b8e9-6b681eec3054",
   "metadata": {
    "tags": []
   },
   "outputs": [
    {
     "name": "stdout",
     "output_type": "stream",
     "text": [
      "Defaulting to user installation because normal site-packages is not writeable\n",
      "Requirement already satisfied: duckdb in /Users/overbye/.local/lib/python3.7/site-packages (1.2.2)\n",
      "\u001b[33mWARNING: You are using pip version 22.0.4; however, version 24.0 is available.\n",
      "You should consider upgrading via the '/opt/python/3.7.13/bin/python3.7 -m pip install --upgrade pip' command.\u001b[0m\u001b[33m\n",
      "\u001b[0mNote: you may need to restart the kernel to use updated packages.\n"
     ]
    }
   ],
   "source": [
    "pip install duckdb"
   ]
  },
  {
   "cell_type": "code",
   "execution_count": 44,
   "id": "fc998e53-bda4-4eac-82f7-2a0e47f3784f",
   "metadata": {},
   "outputs": [],
   "source": [
    "import pandas as pd\n",
    "import duckdb"
   ]
  },
  {
   "cell_type": "code",
   "execution_count": 45,
   "id": "a25954b9-c986-46d6-b79f-08bf145de8ff",
   "metadata": {
    "tags": []
   },
   "outputs": [],
   "source": [
    "# Connect to the database\n",
    "conn = duckdb.connect(\"database.db\")\n",
    "c = conn.cursor()"
   ]
  },
  {
   "cell_type": "code",
   "execution_count": 46,
   "id": "7ac0deda-cab0-4c84-84f6-16320aa37c04",
   "metadata": {
    "tags": []
   },
   "outputs": [],
   "source": [
    "cur = conn.cursor()"
   ]
  },
  {
   "cell_type": "code",
   "execution_count": 22,
   "id": "bb6d1f1f-17de-44e8-bf6b-9b16102f1c88",
   "metadata": {
    "tags": []
   },
   "outputs": [],
   "source": [
    "\n",
    "\n",
    "# Get all species with egg data, ordered by scientific name\n",
    "species_query = \"\"\"\n",
    "SELECT DISTINCT s.Code, s.Scientific_name \n",
    "FROM Species s\n",
    "JOIN Bird_nests n ON s.Code = n.Species\n",
    "JOIN Bird_eggs e ON n.nest_id = e.nest_id\n",
    "WHERE e.Width IS NOT NULL AND e.Length IS NOT NULL\n",
    "ORDER BY s.Scientific_name\n",
    "\"\"\""
   ]
  },
  {
   "cell_type": "code",
   "execution_count": 23,
   "id": "5259bb5d-9ab9-4907-8cf1-5220afba1ec9",
   "metadata": {
    "tags": []
   },
   "outputs": [
    {
     "data": {
      "text/plain": [
       "'\\nSELECT DISTINCT s.Code, s.Scientific_name \\nFROM Species s\\nJOIN Bird_nests n ON s.Code = n.Species\\nJOIN Bird_eggs e ON n.nest_id = e.nest_id\\nWHERE e.Width IS NOT NULL AND e.Length IS NOT NULL\\nORDER BY s.Scientific_name\\n'"
      ]
     },
     "execution_count": 23,
     "metadata": {},
     "output_type": "execute_result"
    }
   ],
   "source": [
    "species_query"
   ]
  },
  {
   "cell_type": "code",
   "execution_count": 24,
   "id": "d3d7f2ae-08b1-4082-a24c-ac042b8fe893",
   "metadata": {
    "tags": []
   },
   "outputs": [
    {
     "ename": "CatalogException",
     "evalue": "Catalog Error: Table with name Species does not exist!\nDid you mean \"pg_indexes\"?\n\nLINE 1: SELECT DISTINCT Code, Scientific_name FROM Species \n                                                   ^",
     "output_type": "error",
     "traceback": [
      "\u001b[0;31m---------------------------------------------------------------------------\u001b[0m",
      "\u001b[0;31mCatalogException\u001b[0m                          Traceback (most recent call last)",
      "\u001b[0;32m/tmp/ipykernel_3564546/4040670414.py\u001b[0m in \u001b[0;36m<module>\u001b[0;34m\u001b[0m\n\u001b[1;32m      4\u001b[0m     \u001b[0mINNER\u001b[0m \u001b[0mJOIN\u001b[0m \u001b[0mBird_eggs\u001b[0m\u001b[0;34m\u001b[0m\u001b[0;34m\u001b[0m\u001b[0m\n\u001b[1;32m      5\u001b[0m     \u001b[0mON\u001b[0m \u001b[0mBird_eggs\u001b[0m\u001b[0;34m.\u001b[0m\u001b[0mNest_ID\u001b[0m \u001b[0;34m=\u001b[0m \u001b[0mBird_nests\u001b[0m\u001b[0;34m.\u001b[0m\u001b[0mNest_ID\u001b[0m\u001b[0;34m\u001b[0m\u001b[0;34m\u001b[0m\u001b[0m\n\u001b[0;32m----> 6\u001b[0;31m     ORDER BY Scientific_name\"\"\")\n\u001b[0m\u001b[1;32m      7\u001b[0m \u001b[0mc\u001b[0m\u001b[0;34m.\u001b[0m\u001b[0mfetchall\u001b[0m\u001b[0;34m(\u001b[0m\u001b[0;34m)\u001b[0m\u001b[0;34m\u001b[0m\u001b[0;34m\u001b[0m\u001b[0m\n",
      "\u001b[0;31mCatalogException\u001b[0m: Catalog Error: Table with name Species does not exist!\nDid you mean \"pg_indexes\"?\n\nLINE 1: SELECT DISTINCT Code, Scientific_name FROM Species \n                                                   ^"
     ]
    }
   ],
   "source": [
    "c.execute(\"\"\"SELECT DISTINCT Code, Scientific_name FROM Species \n",
    "    INNER JOIN Bird_nests\n",
    "    ON Species.Code = Bird_nests.Species\n",
    "    INNER JOIN Bird_eggs\n",
    "    ON Bird_eggs.Nest_ID = Bird_nests.Nest_ID\n",
    "    ORDER BY Scientific_name\"\"\")\n",
    "c.fetchall()"
   ]
  },
  {
   "cell_type": "code",
   "execution_count": 47,
   "id": "574fdd7d-b5b7-44a9-9113-ad6f28d98377",
   "metadata": {
    "tags": []
   },
   "outputs": [],
   "source": [
    "conn.execute(\"SHOW TABLES\")\n",
    "tables = conn.fetchall()"
   ]
  },
  {
   "cell_type": "code",
   "execution_count": 48,
   "id": "56a84212-d3b9-4ee6-9355-8e1a51c7fd13",
   "metadata": {
    "tags": []
   },
   "outputs": [
    {
     "data": {
      "text/plain": [
       "[]"
      ]
     },
     "execution_count": 48,
     "metadata": {},
     "output_type": "execute_result"
    }
   ],
   "source": [
    "tables"
   ]
  },
  {
   "cell_type": "code",
   "execution_count": 26,
   "id": "2e16519d-57c0-41df-b1ce-8a4db4b39208",
   "metadata": {
    "tags": []
   },
   "outputs": [
    {
     "name": "stdout",
     "output_type": "stream",
     "text": [
      "database.db\n"
     ]
    }
   ],
   "source": [
    "%ls database.db"
   ]
  },
  {
   "cell_type": "code",
   "execution_count": 27,
   "id": "4892338f-30b6-441a-a879-1ee2b468169c",
   "metadata": {
    "tags": []
   },
   "outputs": [],
   "source": [
    "# Get all species with egg data, ordered by scientific name\n",
    "species_query = \"\"\"\n",
    "SELECT DISTINCT s.Code, s.Scientific_name \n",
    "FROM species s\n",
    "JOIN nests n ON s.Code = n.Species\n",
    "JOIN eggs e ON n.ID = e.Nest_ID\n",
    "WHERE e.Width IS NOT NULL AND e.Length IS NOT NULL\n",
    "ORDER BY s.Scientific_name\n",
    "\"\"\""
   ]
  },
  {
   "cell_type": "code",
   "execution_count": 28,
   "id": "5b92ca49-054d-4df4-a22f-722b8fb82991",
   "metadata": {
    "tags": []
   },
   "outputs": [
    {
     "name": "stdout",
     "output_type": "stream",
     "text": [
      "Available tables:\n"
     ]
    }
   ],
   "source": [
    "# List all tables in the database\n",
    "c.execute(\"SHOW TABLES\")\n",
    "tables = c.fetchall()\n",
    "print(\"Available tables:\")\n",
    "for table in tables:\n",
    "    print(table[0])"
   ]
  },
  {
   "cell_type": "code",
   "execution_count": 35,
   "id": "01a6d574-9e83-4d1c-9c96-2278a6d3052d",
   "metadata": {
    "tags": []
   },
   "outputs": [
    {
     "ename": "CatalogException",
     "evalue": "Catalog Error: Table with name species does not exist!\nDid you mean \"pg_indexes\"?\n\nLINE 3: FROM species s\n             ^",
     "output_type": "error",
     "traceback": [
      "\u001b[0;31m---------------------------------------------------------------------------\u001b[0m",
      "\u001b[0;31mCatalogException\u001b[0m                          Traceback (most recent call last)",
      "\u001b[0;32m/tmp/ipykernel_3506413/3102630904.py\u001b[0m in \u001b[0;36m<module>\u001b[0;34m\u001b[0m\n\u001b[0;32m----> 1\u001b[0;31m \u001b[0;32mfor\u001b[0m \u001b[0mrow\u001b[0m \u001b[0;32min\u001b[0m \u001b[0mc\u001b[0m\u001b[0;34m.\u001b[0m\u001b[0mexecute\u001b[0m\u001b[0;34m(\u001b[0m\u001b[0mspecies_query\u001b[0m\u001b[0;34m)\u001b[0m\u001b[0;34m.\u001b[0m\u001b[0mfetchall\u001b[0m\u001b[0;34m(\u001b[0m\u001b[0;34m)\u001b[0m\u001b[0;34m:\u001b[0m\u001b[0;34m\u001b[0m\u001b[0;34m\u001b[0m\u001b[0m\n\u001b[0m\u001b[1;32m      2\u001b[0m     \u001b[0mspecies_code\u001b[0m \u001b[0;34m=\u001b[0m \u001b[0mrow\u001b[0m\u001b[0;34m[\u001b[0m\u001b[0;36m0\u001b[0m\u001b[0;34m]\u001b[0m\u001b[0;34m\u001b[0m\u001b[0;34m\u001b[0m\u001b[0m\n\u001b[1;32m      3\u001b[0m     \u001b[0mscientific_name\u001b[0m \u001b[0;34m=\u001b[0m \u001b[0mrow\u001b[0m\u001b[0;34m[\u001b[0m\u001b[0;36m1\u001b[0m\u001b[0;34m]\u001b[0m\u001b[0;34m\u001b[0m\u001b[0;34m\u001b[0m\u001b[0m\n",
      "\u001b[0;31mCatalogException\u001b[0m: Catalog Error: Table with name species does not exist!\nDid you mean \"pg_indexes\"?\n\nLINE 3: FROM species s\n             ^"
     ]
    }
   ],
   "source": [
    "for row in c.execute(species_query).fetchall():\n",
    "    species_code = row[0]\n",
    "    scientific_name = row[1]"
   ]
  }
 ],
 "metadata": {
  "kernelspec": {
   "display_name": "Python 3 (ipykernel)",
   "language": "python",
   "name": "python3"
  },
  "language_info": {
   "codemirror_mode": {
    "name": "ipython",
    "version": 3
   },
   "file_extension": ".py",
   "mimetype": "text/x-python",
   "name": "python",
   "nbconvert_exporter": "python",
   "pygments_lexer": "ipython3",
   "version": "3.7.13"
  }
 },
 "nbformat": 4,
 "nbformat_minor": 5
}
