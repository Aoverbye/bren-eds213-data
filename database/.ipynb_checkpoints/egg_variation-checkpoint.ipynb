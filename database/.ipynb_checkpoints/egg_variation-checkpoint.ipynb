{
 "cells": [
  {
   "cell_type": "code",
   "execution_count": 1,
   "id": "0b38fc53-f7ce-4e4e-8ba3-b4e508d67779",
   "metadata": {
    "tags": []
   },
   "outputs": [],
   "source": [
    "# Import libraries\n",
    "import duckdb\n",
    "import pandas as pd"
   ]
  },
  {
   "cell_type": "code",
   "execution_count": 2,
   "id": "3b6c5475-fb4a-4d5f-a8fb-5911f84baf7b",
   "metadata": {
    "tags": []
   },
   "outputs": [],
   "source": [
    "# Connect to ducl db\n",
    "conn = duckdb.connect(\"database.db\")\n",
    "c = conn.cursor()"
   ]
  },
  {
   "cell_type": "code",
   "execution_count": 3,
   "id": "a4bf06e0-21a5-4ca5-b85e-2bd7a98bf30c",
   "metadata": {
    "tags": []
   },
   "outputs": [
    {
     "data": {
      "text/plain": [
       "[('Bird_eggs',),\n",
       " ('Bird_nests',),\n",
       " ('Camp_assignment',),\n",
       " ('Personnel',),\n",
       " ('Site',),\n",
       " ('Species',)]"
      ]
     },
     "execution_count": 3,
     "metadata": {},
     "output_type": "execute_result"
    }
   ],
   "source": [
    "# View tables\n",
    "c.execute(\"SHOW TABLES\")\n",
    "tables = c.fetchall()\n",
    "tables"
   ]
  },
  {
   "cell_type": "code",
   "execution_count": 7,
   "id": "fbe63c59-5499-463a-900b-d8a2f492ae65",
   "metadata": {
    "tags": []
   },
   "outputs": [],
   "source": [
    "# Query the species\n",
    "species_query = \"\"\"\n",
    "SELECT DISTINCT s.Code, s.Scientific_name\n",
    "FROM Species s\n",
    "JOIN Bird_nests n ON s.Code = n.Species\n",
    "JOIN Bird_eggs e ON n.nest_id = e.nest_id\n",
    "WHERE e.Width IS NOT NULL AND e.Length IS NOT NULL\n",
    "ORDER BY s.Scientific_name\n",
    "\"\"\""
   ]
  },
  {
   "cell_type": "code",
   "execution_count": 8,
   "id": "11706ae6-b020-45ae-8c81-846ea1fc725c",
   "metadata": {
    "tags": []
   },
   "outputs": [],
   "source": [
    "# Execute the query and fetch all results\n",
    "species_list = c.execute(species_query).fetchall()"
   ]
  },
  {
   "cell_type": "code",
   "execution_count": 16,
   "id": "545dab55-1ffc-42d9-8b7b-9f0ada563f14",
   "metadata": {
    "tags": []
   },
   "outputs": [
    {
     "name": "stdout",
     "output_type": "stream",
     "text": [
      "Arenaria interpres 21.12%\n",
      "Calidris alpina 5.46%\n",
      "Calidris fuscicollis 16.77%\n",
      "Charadrius semipalmatus 8.99%\n",
      "Phalaropus fulicarius 4.65%\n",
      "Pluvialis dominica 19.88%\n",
      "Pluvialis squatarola 6.94%\n"
     ]
    }
   ],
   "source": [
    "# For loop to see who the winner is\n",
    "for row in species_list:\n",
    "    species_code = row[0]\n",
    "    scientific_name = row[1]\n",
    "    \n",
    "    egg_query = \"\"\"\n",
    "    SELECT Width * Width * Length AS Volume\n",
    "    FROM Bird_eggs e\n",
    "    JOIN Bird_nests n ON e.nest_id = n.nest_id\n",
    "    WHERE n.Species = ?\n",
    "    \"\"\"\n",
    "    \n",
    "    df = pd.read_sql(egg_query, conn, params=(species_code,))\n",
    "\n",
    "    if df.empty or df[\"Volume\"].mean() == 0:\n",
    "        continue\n",
    "\n",
    "    cv = round(df[\"Volume\"].std() / df[\"Volume\"].mean() * 100, 2)\n",
    "    print(f\"{scientific_name} {cv}%\")"
   ]
  }
 ],
 "metadata": {
  "kernelspec": {
   "display_name": "Python 3 (ipykernel)",
   "language": "python",
   "name": "python3"
  },
  "language_info": {
   "codemirror_mode": {
    "name": "ipython",
    "version": 3
   },
   "file_extension": ".py",
   "mimetype": "text/x-python",
   "name": "python",
   "nbconvert_exporter": "python",
   "pygments_lexer": "ipython3",
   "version": "3.7.13"
  }
 },
 "nbformat": 4,
 "nbformat_minor": 5
}
